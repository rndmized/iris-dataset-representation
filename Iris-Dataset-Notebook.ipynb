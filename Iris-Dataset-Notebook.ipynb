{
 "cells": [
  {
   "cell_type": "markdown",
   "metadata": {},
   "source": [
    "# Iris Data Set"
   ]
  },
  {
   "cell_type": "markdown",
   "metadata": {},
   "source": [
    "## 1. Iris flower data set\n",
    "\n",
    "\"The Iris flower data set or Fisher's Iris data set is a multivariate data set introduced by the British statistician and biologist Ronald Fisher in his 1936 paper The use of multiple measurements in taxonomic problems as an example of linear discriminant analysis.[1] It is sometimes called Anderson's Iris data set because Edgar Anderson collected the data to quantify the morphologic variation of Iris flowers of three related species.[2] Two of the three species were collected in the Gaspé Peninsula \"all from the same pasture, and picked on the same day and measured at the same time by the same person with the same apparatus\".[3]\n",
    "\n",
    "The data set consists of 50 samples from each of three species of Iris (Iris setosa, Iris virginica and Iris versicolor). Four features were measured from each sample: the length and the width of the sepals and petals, in centimetres. Based on the combination of these four features, Fisher developed a linear discriminant model to distinguish the species from each other.\"\n",
    "\n",
    "[1]R. A. Fisher (1936). \"The use of multiple measurements in taxonomic problems\". Annals of Eugenics. 7 (2): 179–188. doi:10.1111/j.1469-1809.1936.tb02137.x.\n",
    "\n",
    "[2]Edgar Anderson (1936). \"The species problem in Iris\". Annals of the Missouri Botanical Garden. 23 (3): 457–509. JSTOR 2394164.\n",
    "\n",
    "[3]Edgar Anderson (1935). \"The irises of the Gaspé Peninsula\". Bulletin of the American Iris Society. 59: 2–5.\n",
    "\n",
    "From Wikipedia, the free encyclopedia\n",
    "\n",
    "The Iris data set is it also well known to be used in pattern recognition and it is widely used to get started in machine learning.\n"
   ]
  },
  {
   "cell_type": "code",
   "execution_count": 2,
   "metadata": {},
   "outputs": [],
   "source": [
    "import numpy as np\n",
    "import matplotlib.pyplot as pl\n",
    "\n",
    "# This just sets the default plot size to be bigger.\n",
    "pl.rcParams['figure.figsize'] = (16.0, 8.0)"
   ]
  },
  {
   "cell_type": "markdown",
   "metadata": {},
   "source": [
    "Small excerpt of the csv as example:\n",
    "\n",
    "| SepalLengthCm  | SepalWidthCm |  PetalLengthCm   | PetalWidthCm |      Species|\n",
    "|:-----------:   |:------------:|: ---------------:|:------------:|:-----------:|\n",
    "|            5.1 |\t         3.5|\t            1.4|\t       0.2|       setosa|\n",
    "|            4.9 |\t           3|\t            1.4|\t       0.2|       setosa|\n",
    "|            4.7 |\t         3.2|\t            1.3|\t       0.2|       setosa|\n",
    "|            4.6 |\t         3.1|\t            1.5|\t       0.2|   \t  setosa|\n"
   ]
  },
  {
   "cell_type": "code",
   "execution_count": 56,
   "metadata": {},
   "outputs": [],
   "source": [
    "# Read data from csv file\n",
    "iris_data = np.genfromtxt('data/iris-data-set.csv', dtype=str, delimiter=',')\n",
    "s_len, s_width, p_len, p_width, species = iris_data.transpose()\n",
    "\n",
    "# Convert data to float\n",
    "s_len = s_len.astype(np.float)\n",
    "s_width = s_width.astype(np.float)\n",
    "p_len = p_len.astype(np.float)\n",
    "p_width = p_width.astype(np.float)"
   ]
  },
  {
   "cell_type": "code",
   "execution_count": null,
   "metadata": {},
   "outputs": [],
   "source": []
  }
 ],
 "metadata": {
  "kernelspec": {
   "display_name": "Python 3",
   "language": "python",
   "name": "python3"
  },
  "language_info": {
   "codemirror_mode": {
    "name": "ipython",
    "version": 3
   },
   "file_extension": ".py",
   "mimetype": "text/x-python",
   "name": "python",
   "nbconvert_exporter": "python",
   "pygments_lexer": "ipython3",
   "version": "3.5.2"
  }
 },
 "nbformat": 4,
 "nbformat_minor": 2
}
